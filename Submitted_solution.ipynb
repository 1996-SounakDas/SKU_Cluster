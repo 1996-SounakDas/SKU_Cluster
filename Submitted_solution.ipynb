{
  "nbformat": 4,
  "nbformat_minor": 0,
  "metadata": {
    "kernelspec": {
      "display_name": "Python 3",
      "language": "python",
      "name": "python3"
    },
    "language_info": {
      "codemirror_mode": {
        "name": "ipython",
        "version": 3
      },
      "file_extension": ".py",
      "mimetype": "text/x-python",
      "name": "python",
      "nbconvert_exporter": "python",
      "pygments_lexer": "ipython3",
      "version": "3.8.5"
    },
    "colab": {
      "name": "Submitted-solution.ipynb",
      "provenance": []
    }
  },
  "cells": [
    {
      "cell_type": "markdown",
      "metadata": {
        "id": "8A_ThEZ0xqAt"
      },
      "source": [
        "# Clustering in SKU Segmentation\n",
        "This is an attempt to pipeline the model. The aim is to obtain the best algorithm based on the external performance evaluation metrics as it can be realised upon looking in the data that there is a lack of ground truth.\n",
        "\n",
        "The script utilizes a free software machine learning library “scikit-learn” as a core\n",
        "complementing it with several algorithms.\n",
        "The script uses the concept of data-pipeline to consequentially perform the following procedures:\n",
        "1. to impute the missing data with Multivariate Imputation\n",
        "2. to standardize the data\n",
        "3. to identify and trim outliers and small 'blobs' with Isolation Forest\n",
        "4. to cluster the data with k-mean, BIRCH and Affinity Propagation\n",
        "5. to improve the eventual clustering result via PCA\n",
        "\n",
        "Since the ground truth is not provided, the clustering is validated only by internal evaluation, namely by silhouette index, Calinski-Harabazs index and Davies-Bouldin."
      ]
    },
    {
      "cell_type": "code",
      "metadata": {
        "id": "9vv4Z6fHsldx"
      },
      "source": [
        "import pandas as pd\n",
        "import numpy as np\n",
        "import csv"
      ],
      "execution_count": 1,
      "outputs": []
    },
    {
      "cell_type": "markdown",
      "metadata": {
        "id": "l6nP6z0zsxiR"
      },
      "source": [
        ""
      ]
    },
    {
      "cell_type": "code",
      "metadata": {
        "colab": {
          "base_uri": "https://localhost:8080/",
          "height": 77,
          "resources": {
            "http://localhost:8080/nbextensions/google.colab/files.js": {
              "data": "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",
              "ok": true,
              "headers": [
                [
                  "content-type",
                  "application/javascript"
                ]
              ],
              "status": 200,
              "status_text": "OK"
            }
          }
        },
        "id": "YnIxVfAbsld4",
        "outputId": "f4ad011e-04ba-4f61-c642-d0d2cb415025"
      },
      "source": [
        "from google.colab import files\n",
        "uploaded = files.upload()"
      ],
      "execution_count": 2,
      "outputs": [
        {
          "output_type": "display_data",
          "data": {
            "text/plain": [
              "<IPython.core.display.HTML object>"
            ],
            "text/html": [
              "\n",
              "     <input type=\"file\" id=\"files-a45e1d4c-fc10-42c3-9bf9-fde79e01904f\" name=\"files[]\" multiple disabled\n",
              "        style=\"border:none\" />\n",
              "     <output id=\"result-a45e1d4c-fc10-42c3-9bf9-fde79e01904f\">\n",
              "      Upload widget is only available when the cell has been executed in the\n",
              "      current browser session. Please rerun this cell to enable.\n",
              "      </output>\n",
              "      <script src=\"/nbextensions/google.colab/files.js\"></script> "
            ]
          },
          "metadata": {}
        },
        {
          "output_type": "stream",
          "name": "stdout",
          "text": [
            "Saving initial_data.xlsx to initial_data (2).xlsx\n"
          ]
        }
      ]
    },
    {
      "cell_type": "markdown",
      "source": [
        "# Importing the file\n",
        "The file uploaded is in .xlsx format. This needs to be converted accordingly in a dataframe so that pandas operations could be performed. \n",
        "Pandas library based operations will enable a preliminary analysis and operations inside the dataframe.\n",
        "Here, 3 columns are dropped due to unfavourability in contribution to arrangement."
      ],
      "metadata": {
        "id": "vuihxZWarKaW"
      }
    },
    {
      "cell_type": "code",
      "metadata": {
        "colab": {
          "base_uri": "https://localhost:8080/",
          "height": 363
        },
        "id": "ooXf6zeLtpdD",
        "outputId": "f828a821-489e-4bc4-8b42-987f7c45781c"
      },
      "source": [
        "import io\n",
        "data = pd.read_excel(io.BytesIO(uploaded['initial_data.xlsx']))\n",
        "\n",
        "data[['Unitprice', 'Expire date', 'Outbound number','Total outbound','Pal grossweight', 'Pal height',\n",
        "      'Units per pal']] = data[['Unitprice', 'Expire date', 'Outbound number','Total outbound','Pal grossweight',\n",
        "                                'Pal height', 'Units per pal']].replace(0.0, np.nan)\n",
        "data = data.drop([\"ID\",\"Tradability\",\"Init status\"], axis=1)\n",
        "data.head(10)\n"
      ],
      "execution_count": 3,
      "outputs": [
        {
          "output_type": "execute_result",
          "data": {
            "text/plain": [
              "   Unitprice  Expire date  Outbound number  Total outbound  Pal grossweight  \\\n",
              "0     0.0580        547.0              9.0          2441.0           105.60   \n",
              "1     0.9540        547.0              NaN             NaN           207.68   \n",
              "2     2.3850        547.0             12.0            23.0           165.78   \n",
              "3     5.1000        547.0              NaN             NaN           221.04   \n",
              "4        NaN        547.0              NaN             NaN              NaN   \n",
              "5     1.1100        547.0              1.0             1.0           207.68   \n",
              "6     2.5150        547.0              2.0             4.0           165.78   \n",
              "7        NaN        547.0              NaN             NaN              NaN   \n",
              "8     0.2625        547.0              NaN             NaN              NaN   \n",
              "9    13.3540        365.0              NaN             NaN           441.72   \n",
              "\n",
              "   Pal height  Units per pal  \n",
              "0        1.56         1920.0  \n",
              "1        1.00          384.0  \n",
              "2        1.02          108.0  \n",
              "3        1.05           72.0  \n",
              "4         NaN            NaN  \n",
              "5        1.00          384.0  \n",
              "6        1.02          108.0  \n",
              "7         NaN            NaN  \n",
              "8         NaN            NaN  \n",
              "9        1.44           36.0  "
            ],
            "text/html": [
              "\n",
              "  <div id=\"df-35dda4ad-9ffd-45f5-9a44-e4c11ff6ad17\">\n",
              "    <div class=\"colab-df-container\">\n",
              "      <div>\n",
              "<style scoped>\n",
              "    .dataframe tbody tr th:only-of-type {\n",
              "        vertical-align: middle;\n",
              "    }\n",
              "\n",
              "    .dataframe tbody tr th {\n",
              "        vertical-align: top;\n",
              "    }\n",
              "\n",
              "    .dataframe thead th {\n",
              "        text-align: right;\n",
              "    }\n",
              "</style>\n",
              "<table border=\"1\" class=\"dataframe\">\n",
              "  <thead>\n",
              "    <tr style=\"text-align: right;\">\n",
              "      <th></th>\n",
              "      <th>Unitprice</th>\n",
              "      <th>Expire date</th>\n",
              "      <th>Outbound number</th>\n",
              "      <th>Total outbound</th>\n",
              "      <th>Pal grossweight</th>\n",
              "      <th>Pal height</th>\n",
              "      <th>Units per pal</th>\n",
              "    </tr>\n",
              "  </thead>\n",
              "  <tbody>\n",
              "    <tr>\n",
              "      <th>0</th>\n",
              "      <td>0.0580</td>\n",
              "      <td>547.0</td>\n",
              "      <td>9.0</td>\n",
              "      <td>2441.0</td>\n",
              "      <td>105.60</td>\n",
              "      <td>1.56</td>\n",
              "      <td>1920.0</td>\n",
              "    </tr>\n",
              "    <tr>\n",
              "      <th>1</th>\n",
              "      <td>0.9540</td>\n",
              "      <td>547.0</td>\n",
              "      <td>NaN</td>\n",
              "      <td>NaN</td>\n",
              "      <td>207.68</td>\n",
              "      <td>1.00</td>\n",
              "      <td>384.0</td>\n",
              "    </tr>\n",
              "    <tr>\n",
              "      <th>2</th>\n",
              "      <td>2.3850</td>\n",
              "      <td>547.0</td>\n",
              "      <td>12.0</td>\n",
              "      <td>23.0</td>\n",
              "      <td>165.78</td>\n",
              "      <td>1.02</td>\n",
              "      <td>108.0</td>\n",
              "    </tr>\n",
              "    <tr>\n",
              "      <th>3</th>\n",
              "      <td>5.1000</td>\n",
              "      <td>547.0</td>\n",
              "      <td>NaN</td>\n",
              "      <td>NaN</td>\n",
              "      <td>221.04</td>\n",
              "      <td>1.05</td>\n",
              "      <td>72.0</td>\n",
              "    </tr>\n",
              "    <tr>\n",
              "      <th>4</th>\n",
              "      <td>NaN</td>\n",
              "      <td>547.0</td>\n",
              "      <td>NaN</td>\n",
              "      <td>NaN</td>\n",
              "      <td>NaN</td>\n",
              "      <td>NaN</td>\n",
              "      <td>NaN</td>\n",
              "    </tr>\n",
              "    <tr>\n",
              "      <th>5</th>\n",
              "      <td>1.1100</td>\n",
              "      <td>547.0</td>\n",
              "      <td>1.0</td>\n",
              "      <td>1.0</td>\n",
              "      <td>207.68</td>\n",
              "      <td>1.00</td>\n",
              "      <td>384.0</td>\n",
              "    </tr>\n",
              "    <tr>\n",
              "      <th>6</th>\n",
              "      <td>2.5150</td>\n",
              "      <td>547.0</td>\n",
              "      <td>2.0</td>\n",
              "      <td>4.0</td>\n",
              "      <td>165.78</td>\n",
              "      <td>1.02</td>\n",
              "      <td>108.0</td>\n",
              "    </tr>\n",
              "    <tr>\n",
              "      <th>7</th>\n",
              "      <td>NaN</td>\n",
              "      <td>547.0</td>\n",
              "      <td>NaN</td>\n",
              "      <td>NaN</td>\n",
              "      <td>NaN</td>\n",
              "      <td>NaN</td>\n",
              "      <td>NaN</td>\n",
              "    </tr>\n",
              "    <tr>\n",
              "      <th>8</th>\n",
              "      <td>0.2625</td>\n",
              "      <td>547.0</td>\n",
              "      <td>NaN</td>\n",
              "      <td>NaN</td>\n",
              "      <td>NaN</td>\n",
              "      <td>NaN</td>\n",
              "      <td>NaN</td>\n",
              "    </tr>\n",
              "    <tr>\n",
              "      <th>9</th>\n",
              "      <td>13.3540</td>\n",
              "      <td>365.0</td>\n",
              "      <td>NaN</td>\n",
              "      <td>NaN</td>\n",
              "      <td>441.72</td>\n",
              "      <td>1.44</td>\n",
              "      <td>36.0</td>\n",
              "    </tr>\n",
              "  </tbody>\n",
              "</table>\n",
              "</div>\n",
              "      <button class=\"colab-df-convert\" onclick=\"convertToInteractive('df-35dda4ad-9ffd-45f5-9a44-e4c11ff6ad17')\"\n",
              "              title=\"Convert this dataframe to an interactive table.\"\n",
              "              style=\"display:none;\">\n",
              "        \n",
              "  <svg xmlns=\"http://www.w3.org/2000/svg\" height=\"24px\"viewBox=\"0 0 24 24\"\n",
              "       width=\"24px\">\n",
              "    <path d=\"M0 0h24v24H0V0z\" fill=\"none\"/>\n",
              "    <path d=\"M18.56 5.44l.94 2.06.94-2.06 2.06-.94-2.06-.94-.94-2.06-.94 2.06-2.06.94zm-11 1L8.5 8.5l.94-2.06 2.06-.94-2.06-.94L8.5 2.5l-.94 2.06-2.06.94zm10 10l.94 2.06.94-2.06 2.06-.94-2.06-.94-.94-2.06-.94 2.06-2.06.94z\"/><path d=\"M17.41 7.96l-1.37-1.37c-.4-.4-.92-.59-1.43-.59-.52 0-1.04.2-1.43.59L10.3 9.45l-7.72 7.72c-.78.78-.78 2.05 0 2.83L4 21.41c.39.39.9.59 1.41.59.51 0 1.02-.2 1.41-.59l7.78-7.78 2.81-2.81c.8-.78.8-2.07 0-2.86zM5.41 20L4 18.59l7.72-7.72 1.47 1.35L5.41 20z\"/>\n",
              "  </svg>\n",
              "      </button>\n",
              "      \n",
              "  <style>\n",
              "    .colab-df-container {\n",
              "      display:flex;\n",
              "      flex-wrap:wrap;\n",
              "      gap: 12px;\n",
              "    }\n",
              "\n",
              "    .colab-df-convert {\n",
              "      background-color: #E8F0FE;\n",
              "      border: none;\n",
              "      border-radius: 50%;\n",
              "      cursor: pointer;\n",
              "      display: none;\n",
              "      fill: #1967D2;\n",
              "      height: 32px;\n",
              "      padding: 0 0 0 0;\n",
              "      width: 32px;\n",
              "    }\n",
              "\n",
              "    .colab-df-convert:hover {\n",
              "      background-color: #E2EBFA;\n",
              "      box-shadow: 0px 1px 2px rgba(60, 64, 67, 0.3), 0px 1px 3px 1px rgba(60, 64, 67, 0.15);\n",
              "      fill: #174EA6;\n",
              "    }\n",
              "\n",
              "    [theme=dark] .colab-df-convert {\n",
              "      background-color: #3B4455;\n",
              "      fill: #D2E3FC;\n",
              "    }\n",
              "\n",
              "    [theme=dark] .colab-df-convert:hover {\n",
              "      background-color: #434B5C;\n",
              "      box-shadow: 0px 1px 3px 1px rgba(0, 0, 0, 0.15);\n",
              "      filter: drop-shadow(0px 1px 2px rgba(0, 0, 0, 0.3));\n",
              "      fill: #FFFFFF;\n",
              "    }\n",
              "  </style>\n",
              "\n",
              "      <script>\n",
              "        const buttonEl =\n",
              "          document.querySelector('#df-35dda4ad-9ffd-45f5-9a44-e4c11ff6ad17 button.colab-df-convert');\n",
              "        buttonEl.style.display =\n",
              "          google.colab.kernel.accessAllowed ? 'block' : 'none';\n",
              "\n",
              "        async function convertToInteractive(key) {\n",
              "          const element = document.querySelector('#df-35dda4ad-9ffd-45f5-9a44-e4c11ff6ad17');\n",
              "          const dataTable =\n",
              "            await google.colab.kernel.invokeFunction('convertToInteractive',\n",
              "                                                     [key], {});\n",
              "          if (!dataTable) return;\n",
              "\n",
              "          const docLinkHtml = 'Like what you see? Visit the ' +\n",
              "            '<a target=\"_blank\" href=https://colab.research.google.com/notebooks/data_table.ipynb>data table notebook</a>'\n",
              "            + ' to learn more about interactive tables.';\n",
              "          element.innerHTML = '';\n",
              "          dataTable['output_type'] = 'display_data';\n",
              "          await google.colab.output.renderOutput(dataTable, element);\n",
              "          const docLink = document.createElement('div');\n",
              "          docLink.innerHTML = docLinkHtml;\n",
              "          element.appendChild(docLink);\n",
              "        }\n",
              "      </script>\n",
              "    </div>\n",
              "  </div>\n",
              "  "
            ]
          },
          "metadata": {},
          "execution_count": 3
        }
      ]
    },
    {
      "cell_type": "markdown",
      "source": [
        "# Checking for null values\n",
        "The null values obtained are in NaN character and have to be subsequently imputed. "
      ],
      "metadata": {
        "id": "5HRzYUojrexI"
      }
    },
    {
      "cell_type": "code",
      "metadata": {
        "colab": {
          "base_uri": "https://localhost:8080/",
          "height": 424
        },
        "id": "ZWrZOgJk4yXJ",
        "outputId": "cc94ecb9-3402-4022-ea51-fbe0019ba4a7"
      },
      "source": [
        "data.isnull()"
      ],
      "execution_count": 4,
      "outputs": [
        {
          "output_type": "execute_result",
          "data": {
            "text/plain": [
              "      Unitprice  Expire date  Outbound number  Total outbound  \\\n",
              "0         False        False            False           False   \n",
              "1         False        False             True            True   \n",
              "2         False        False            False           False   \n",
              "3         False        False             True            True   \n",
              "4          True        False             True            True   \n",
              "...         ...          ...              ...             ...   \n",
              "2274       True         True             True            True   \n",
              "2275       True         True            False           False   \n",
              "2276       True         True             True            True   \n",
              "2277       True         True            False           False   \n",
              "2278       True        False            False           False   \n",
              "\n",
              "      Pal grossweight  Pal height  Units per pal  \n",
              "0               False       False          False  \n",
              "1               False       False          False  \n",
              "2               False       False          False  \n",
              "3               False       False          False  \n",
              "4                True        True           True  \n",
              "...               ...         ...            ...  \n",
              "2274            False        True          False  \n",
              "2275            False        True          False  \n",
              "2276            False        True          False  \n",
              "2277            False        True          False  \n",
              "2278            False        True          False  \n",
              "\n",
              "[2279 rows x 7 columns]"
            ],
            "text/html": [
              "\n",
              "  <div id=\"df-c4777606-6770-42ff-8841-097615ea8226\">\n",
              "    <div class=\"colab-df-container\">\n",
              "      <div>\n",
              "<style scoped>\n",
              "    .dataframe tbody tr th:only-of-type {\n",
              "        vertical-align: middle;\n",
              "    }\n",
              "\n",
              "    .dataframe tbody tr th {\n",
              "        vertical-align: top;\n",
              "    }\n",
              "\n",
              "    .dataframe thead th {\n",
              "        text-align: right;\n",
              "    }\n",
              "</style>\n",
              "<table border=\"1\" class=\"dataframe\">\n",
              "  <thead>\n",
              "    <tr style=\"text-align: right;\">\n",
              "      <th></th>\n",
              "      <th>Unitprice</th>\n",
              "      <th>Expire date</th>\n",
              "      <th>Outbound number</th>\n",
              "      <th>Total outbound</th>\n",
              "      <th>Pal grossweight</th>\n",
              "      <th>Pal height</th>\n",
              "      <th>Units per pal</th>\n",
              "    </tr>\n",
              "  </thead>\n",
              "  <tbody>\n",
              "    <tr>\n",
              "      <th>0</th>\n",
              "      <td>False</td>\n",
              "      <td>False</td>\n",
              "      <td>False</td>\n",
              "      <td>False</td>\n",
              "      <td>False</td>\n",
              "      <td>False</td>\n",
              "      <td>False</td>\n",
              "    </tr>\n",
              "    <tr>\n",
              "      <th>1</th>\n",
              "      <td>False</td>\n",
              "      <td>False</td>\n",
              "      <td>True</td>\n",
              "      <td>True</td>\n",
              "      <td>False</td>\n",
              "      <td>False</td>\n",
              "      <td>False</td>\n",
              "    </tr>\n",
              "    <tr>\n",
              "      <th>2</th>\n",
              "      <td>False</td>\n",
              "      <td>False</td>\n",
              "      <td>False</td>\n",
              "      <td>False</td>\n",
              "      <td>False</td>\n",
              "      <td>False</td>\n",
              "      <td>False</td>\n",
              "    </tr>\n",
              "    <tr>\n",
              "      <th>3</th>\n",
              "      <td>False</td>\n",
              "      <td>False</td>\n",
              "      <td>True</td>\n",
              "      <td>True</td>\n",
              "      <td>False</td>\n",
              "      <td>False</td>\n",
              "      <td>False</td>\n",
              "    </tr>\n",
              "    <tr>\n",
              "      <th>4</th>\n",
              "      <td>True</td>\n",
              "      <td>False</td>\n",
              "      <td>True</td>\n",
              "      <td>True</td>\n",
              "      <td>True</td>\n",
              "      <td>True</td>\n",
              "      <td>True</td>\n",
              "    </tr>\n",
              "    <tr>\n",
              "      <th>...</th>\n",
              "      <td>...</td>\n",
              "      <td>...</td>\n",
              "      <td>...</td>\n",
              "      <td>...</td>\n",
              "      <td>...</td>\n",
              "      <td>...</td>\n",
              "      <td>...</td>\n",
              "    </tr>\n",
              "    <tr>\n",
              "      <th>2274</th>\n",
              "      <td>True</td>\n",
              "      <td>True</td>\n",
              "      <td>True</td>\n",
              "      <td>True</td>\n",
              "      <td>False</td>\n",
              "      <td>True</td>\n",
              "      <td>False</td>\n",
              "    </tr>\n",
              "    <tr>\n",
              "      <th>2275</th>\n",
              "      <td>True</td>\n",
              "      <td>True</td>\n",
              "      <td>False</td>\n",
              "      <td>False</td>\n",
              "      <td>False</td>\n",
              "      <td>True</td>\n",
              "      <td>False</td>\n",
              "    </tr>\n",
              "    <tr>\n",
              "      <th>2276</th>\n",
              "      <td>True</td>\n",
              "      <td>True</td>\n",
              "      <td>True</td>\n",
              "      <td>True</td>\n",
              "      <td>False</td>\n",
              "      <td>True</td>\n",
              "      <td>False</td>\n",
              "    </tr>\n",
              "    <tr>\n",
              "      <th>2277</th>\n",
              "      <td>True</td>\n",
              "      <td>True</td>\n",
              "      <td>False</td>\n",
              "      <td>False</td>\n",
              "      <td>False</td>\n",
              "      <td>True</td>\n",
              "      <td>False</td>\n",
              "    </tr>\n",
              "    <tr>\n",
              "      <th>2278</th>\n",
              "      <td>True</td>\n",
              "      <td>False</td>\n",
              "      <td>False</td>\n",
              "      <td>False</td>\n",
              "      <td>False</td>\n",
              "      <td>True</td>\n",
              "      <td>False</td>\n",
              "    </tr>\n",
              "  </tbody>\n",
              "</table>\n",
              "<p>2279 rows × 7 columns</p>\n",
              "</div>\n",
              "      <button class=\"colab-df-convert\" onclick=\"convertToInteractive('df-c4777606-6770-42ff-8841-097615ea8226')\"\n",
              "              title=\"Convert this dataframe to an interactive table.\"\n",
              "              style=\"display:none;\">\n",
              "        \n",
              "  <svg xmlns=\"http://www.w3.org/2000/svg\" height=\"24px\"viewBox=\"0 0 24 24\"\n",
              "       width=\"24px\">\n",
              "    <path d=\"M0 0h24v24H0V0z\" fill=\"none\"/>\n",
              "    <path d=\"M18.56 5.44l.94 2.06.94-2.06 2.06-.94-2.06-.94-.94-2.06-.94 2.06-2.06.94zm-11 1L8.5 8.5l.94-2.06 2.06-.94-2.06-.94L8.5 2.5l-.94 2.06-2.06.94zm10 10l.94 2.06.94-2.06 2.06-.94-2.06-.94-.94-2.06-.94 2.06-2.06.94z\"/><path d=\"M17.41 7.96l-1.37-1.37c-.4-.4-.92-.59-1.43-.59-.52 0-1.04.2-1.43.59L10.3 9.45l-7.72 7.72c-.78.78-.78 2.05 0 2.83L4 21.41c.39.39.9.59 1.41.59.51 0 1.02-.2 1.41-.59l7.78-7.78 2.81-2.81c.8-.78.8-2.07 0-2.86zM5.41 20L4 18.59l7.72-7.72 1.47 1.35L5.41 20z\"/>\n",
              "  </svg>\n",
              "      </button>\n",
              "      \n",
              "  <style>\n",
              "    .colab-df-container {\n",
              "      display:flex;\n",
              "      flex-wrap:wrap;\n",
              "      gap: 12px;\n",
              "    }\n",
              "\n",
              "    .colab-df-convert {\n",
              "      background-color: #E8F0FE;\n",
              "      border: none;\n",
              "      border-radius: 50%;\n",
              "      cursor: pointer;\n",
              "      display: none;\n",
              "      fill: #1967D2;\n",
              "      height: 32px;\n",
              "      padding: 0 0 0 0;\n",
              "      width: 32px;\n",
              "    }\n",
              "\n",
              "    .colab-df-convert:hover {\n",
              "      background-color: #E2EBFA;\n",
              "      box-shadow: 0px 1px 2px rgba(60, 64, 67, 0.3), 0px 1px 3px 1px rgba(60, 64, 67, 0.15);\n",
              "      fill: #174EA6;\n",
              "    }\n",
              "\n",
              "    [theme=dark] .colab-df-convert {\n",
              "      background-color: #3B4455;\n",
              "      fill: #D2E3FC;\n",
              "    }\n",
              "\n",
              "    [theme=dark] .colab-df-convert:hover {\n",
              "      background-color: #434B5C;\n",
              "      box-shadow: 0px 1px 3px 1px rgba(0, 0, 0, 0.15);\n",
              "      filter: drop-shadow(0px 1px 2px rgba(0, 0, 0, 0.3));\n",
              "      fill: #FFFFFF;\n",
              "    }\n",
              "  </style>\n",
              "\n",
              "      <script>\n",
              "        const buttonEl =\n",
              "          document.querySelector('#df-c4777606-6770-42ff-8841-097615ea8226 button.colab-df-convert');\n",
              "        buttonEl.style.display =\n",
              "          google.colab.kernel.accessAllowed ? 'block' : 'none';\n",
              "\n",
              "        async function convertToInteractive(key) {\n",
              "          const element = document.querySelector('#df-c4777606-6770-42ff-8841-097615ea8226');\n",
              "          const dataTable =\n",
              "            await google.colab.kernel.invokeFunction('convertToInteractive',\n",
              "                                                     [key], {});\n",
              "          if (!dataTable) return;\n",
              "\n",
              "          const docLinkHtml = 'Like what you see? Visit the ' +\n",
              "            '<a target=\"_blank\" href=https://colab.research.google.com/notebooks/data_table.ipynb>data table notebook</a>'\n",
              "            + ' to learn more about interactive tables.';\n",
              "          element.innerHTML = '';\n",
              "          dataTable['output_type'] = 'display_data';\n",
              "          await google.colab.output.renderOutput(dataTable, element);\n",
              "          const docLink = document.createElement('div');\n",
              "          docLink.innerHTML = docLinkHtml;\n",
              "          element.appendChild(docLink);\n",
              "        }\n",
              "      </script>\n",
              "    </div>\n",
              "  </div>\n",
              "  "
            ]
          },
          "metadata": {},
          "execution_count": 4
        }
      ]
    },
    {
      "cell_type": "markdown",
      "source": [
        "# Contribution of each feature\n",
        "The following shows how many null values are contributed by each feature in the observations. They can be unique (only a single feature has a null value) or repititive (an observation having multiple null values across its features)"
      ],
      "metadata": {
        "id": "Ao-m7GeFrqdL"
      }
    },
    {
      "cell_type": "code",
      "metadata": {
        "colab": {
          "base_uri": "https://localhost:8080/"
        },
        "id": "oGOfpK8y37wH",
        "outputId": "b2c32bdc-a90d-43b3-9376-a27325e45186"
      },
      "source": [
        "data.isnull().sum()"
      ],
      "execution_count": 5,
      "outputs": [
        {
          "output_type": "execute_result",
          "data": {
            "text/plain": [
              "Unitprice          710\n",
              "Expire date        529\n",
              "Outbound number    979\n",
              "Total outbound     979\n",
              "Pal grossweight    371\n",
              "Pal height         787\n",
              "Units per pal      295\n",
              "dtype: int64"
            ]
          },
          "metadata": {},
          "execution_count": 5
        }
      ]
    },
    {
      "cell_type": "markdown",
      "source": [
        "# Calculating the Pearson Correlation matrix\n",
        "As part of a preliminary analysis to establish any strong or medium correlation amongst various feature that could impact the final performance.\n"
      ],
      "metadata": {
        "id": "1aOWFbLcsE_C"
      }
    },
    {
      "cell_type": "code",
      "metadata": {
        "colab": {
          "base_uri": "https://localhost:8080/",
          "height": 269
        },
        "id": "lSEkYnC12TvI",
        "outputId": "870bcc3d-6517-438c-a55e-0ed8bc22aa51"
      },
      "source": [
        "data.corr(method ='pearson')"
      ],
      "execution_count": 6,
      "outputs": [
        {
          "output_type": "execute_result",
          "data": {
            "text/plain": [
              "                 Unitprice  Expire date  Outbound number  Total outbound  \\\n",
              "Unitprice         1.000000    -0.648809        -0.056527       -0.084959   \n",
              "Expire date      -0.648809     1.000000         0.141444        0.112660   \n",
              "Outbound number  -0.056527     0.141444         1.000000        0.851717   \n",
              "Total outbound   -0.084959     0.112660         0.851717        1.000000   \n",
              "Pal grossweight   0.184989    -0.311792         0.075129       -0.026515   \n",
              "Pal height       -0.031787    -0.415777        -0.072312       -0.019687   \n",
              "Units per pal    -0.034507     0.309733        -0.040111       -0.006720   \n",
              "\n",
              "                 Pal grossweight  Pal height  Units per pal  \n",
              "Unitprice               0.184989   -0.031787      -0.034507  \n",
              "Expire date            -0.311792   -0.415777       0.309733  \n",
              "Outbound number         0.075129   -0.072312      -0.040111  \n",
              "Total outbound         -0.026515   -0.019687      -0.006720  \n",
              "Pal grossweight         1.000000    0.412455       0.070743  \n",
              "Pal height              0.412455    1.000000      -0.030092  \n",
              "Units per pal           0.070743   -0.030092       1.000000  "
            ],
            "text/html": [
              "\n",
              "  <div id=\"df-2fb9330e-6ae2-484c-8b6b-51289cf143e3\">\n",
              "    <div class=\"colab-df-container\">\n",
              "      <div>\n",
              "<style scoped>\n",
              "    .dataframe tbody tr th:only-of-type {\n",
              "        vertical-align: middle;\n",
              "    }\n",
              "\n",
              "    .dataframe tbody tr th {\n",
              "        vertical-align: top;\n",
              "    }\n",
              "\n",
              "    .dataframe thead th {\n",
              "        text-align: right;\n",
              "    }\n",
              "</style>\n",
              "<table border=\"1\" class=\"dataframe\">\n",
              "  <thead>\n",
              "    <tr style=\"text-align: right;\">\n",
              "      <th></th>\n",
              "      <th>Unitprice</th>\n",
              "      <th>Expire date</th>\n",
              "      <th>Outbound number</th>\n",
              "      <th>Total outbound</th>\n",
              "      <th>Pal grossweight</th>\n",
              "      <th>Pal height</th>\n",
              "      <th>Units per pal</th>\n",
              "    </tr>\n",
              "  </thead>\n",
              "  <tbody>\n",
              "    <tr>\n",
              "      <th>Unitprice</th>\n",
              "      <td>1.000000</td>\n",
              "      <td>-0.648809</td>\n",
              "      <td>-0.056527</td>\n",
              "      <td>-0.084959</td>\n",
              "      <td>0.184989</td>\n",
              "      <td>-0.031787</td>\n",
              "      <td>-0.034507</td>\n",
              "    </tr>\n",
              "    <tr>\n",
              "      <th>Expire date</th>\n",
              "      <td>-0.648809</td>\n",
              "      <td>1.000000</td>\n",
              "      <td>0.141444</td>\n",
              "      <td>0.112660</td>\n",
              "      <td>-0.311792</td>\n",
              "      <td>-0.415777</td>\n",
              "      <td>0.309733</td>\n",
              "    </tr>\n",
              "    <tr>\n",
              "      <th>Outbound number</th>\n",
              "      <td>-0.056527</td>\n",
              "      <td>0.141444</td>\n",
              "      <td>1.000000</td>\n",
              "      <td>0.851717</td>\n",
              "      <td>0.075129</td>\n",
              "      <td>-0.072312</td>\n",
              "      <td>-0.040111</td>\n",
              "    </tr>\n",
              "    <tr>\n",
              "      <th>Total outbound</th>\n",
              "      <td>-0.084959</td>\n",
              "      <td>0.112660</td>\n",
              "      <td>0.851717</td>\n",
              "      <td>1.000000</td>\n",
              "      <td>-0.026515</td>\n",
              "      <td>-0.019687</td>\n",
              "      <td>-0.006720</td>\n",
              "    </tr>\n",
              "    <tr>\n",
              "      <th>Pal grossweight</th>\n",
              "      <td>0.184989</td>\n",
              "      <td>-0.311792</td>\n",
              "      <td>0.075129</td>\n",
              "      <td>-0.026515</td>\n",
              "      <td>1.000000</td>\n",
              "      <td>0.412455</td>\n",
              "      <td>0.070743</td>\n",
              "    </tr>\n",
              "    <tr>\n",
              "      <th>Pal height</th>\n",
              "      <td>-0.031787</td>\n",
              "      <td>-0.415777</td>\n",
              "      <td>-0.072312</td>\n",
              "      <td>-0.019687</td>\n",
              "      <td>0.412455</td>\n",
              "      <td>1.000000</td>\n",
              "      <td>-0.030092</td>\n",
              "    </tr>\n",
              "    <tr>\n",
              "      <th>Units per pal</th>\n",
              "      <td>-0.034507</td>\n",
              "      <td>0.309733</td>\n",
              "      <td>-0.040111</td>\n",
              "      <td>-0.006720</td>\n",
              "      <td>0.070743</td>\n",
              "      <td>-0.030092</td>\n",
              "      <td>1.000000</td>\n",
              "    </tr>\n",
              "  </tbody>\n",
              "</table>\n",
              "</div>\n",
              "      <button class=\"colab-df-convert\" onclick=\"convertToInteractive('df-2fb9330e-6ae2-484c-8b6b-51289cf143e3')\"\n",
              "              title=\"Convert this dataframe to an interactive table.\"\n",
              "              style=\"display:none;\">\n",
              "        \n",
              "  <svg xmlns=\"http://www.w3.org/2000/svg\" height=\"24px\"viewBox=\"0 0 24 24\"\n",
              "       width=\"24px\">\n",
              "    <path d=\"M0 0h24v24H0V0z\" fill=\"none\"/>\n",
              "    <path d=\"M18.56 5.44l.94 2.06.94-2.06 2.06-.94-2.06-.94-.94-2.06-.94 2.06-2.06.94zm-11 1L8.5 8.5l.94-2.06 2.06-.94-2.06-.94L8.5 2.5l-.94 2.06-2.06.94zm10 10l.94 2.06.94-2.06 2.06-.94-2.06-.94-.94-2.06-.94 2.06-2.06.94z\"/><path d=\"M17.41 7.96l-1.37-1.37c-.4-.4-.92-.59-1.43-.59-.52 0-1.04.2-1.43.59L10.3 9.45l-7.72 7.72c-.78.78-.78 2.05 0 2.83L4 21.41c.39.39.9.59 1.41.59.51 0 1.02-.2 1.41-.59l7.78-7.78 2.81-2.81c.8-.78.8-2.07 0-2.86zM5.41 20L4 18.59l7.72-7.72 1.47 1.35L5.41 20z\"/>\n",
              "  </svg>\n",
              "      </button>\n",
              "      \n",
              "  <style>\n",
              "    .colab-df-container {\n",
              "      display:flex;\n",
              "      flex-wrap:wrap;\n",
              "      gap: 12px;\n",
              "    }\n",
              "\n",
              "    .colab-df-convert {\n",
              "      background-color: #E8F0FE;\n",
              "      border: none;\n",
              "      border-radius: 50%;\n",
              "      cursor: pointer;\n",
              "      display: none;\n",
              "      fill: #1967D2;\n",
              "      height: 32px;\n",
              "      padding: 0 0 0 0;\n",
              "      width: 32px;\n",
              "    }\n",
              "\n",
              "    .colab-df-convert:hover {\n",
              "      background-color: #E2EBFA;\n",
              "      box-shadow: 0px 1px 2px rgba(60, 64, 67, 0.3), 0px 1px 3px 1px rgba(60, 64, 67, 0.15);\n",
              "      fill: #174EA6;\n",
              "    }\n",
              "\n",
              "    [theme=dark] .colab-df-convert {\n",
              "      background-color: #3B4455;\n",
              "      fill: #D2E3FC;\n",
              "    }\n",
              "\n",
              "    [theme=dark] .colab-df-convert:hover {\n",
              "      background-color: #434B5C;\n",
              "      box-shadow: 0px 1px 3px 1px rgba(0, 0, 0, 0.15);\n",
              "      filter: drop-shadow(0px 1px 2px rgba(0, 0, 0, 0.3));\n",
              "      fill: #FFFFFF;\n",
              "    }\n",
              "  </style>\n",
              "\n",
              "      <script>\n",
              "        const buttonEl =\n",
              "          document.querySelector('#df-2fb9330e-6ae2-484c-8b6b-51289cf143e3 button.colab-df-convert');\n",
              "        buttonEl.style.display =\n",
              "          google.colab.kernel.accessAllowed ? 'block' : 'none';\n",
              "\n",
              "        async function convertToInteractive(key) {\n",
              "          const element = document.querySelector('#df-2fb9330e-6ae2-484c-8b6b-51289cf143e3');\n",
              "          const dataTable =\n",
              "            await google.colab.kernel.invokeFunction('convertToInteractive',\n",
              "                                                     [key], {});\n",
              "          if (!dataTable) return;\n",
              "\n",
              "          const docLinkHtml = 'Like what you see? Visit the ' +\n",
              "            '<a target=\"_blank\" href=https://colab.research.google.com/notebooks/data_table.ipynb>data table notebook</a>'\n",
              "            + ' to learn more about interactive tables.';\n",
              "          element.innerHTML = '';\n",
              "          dataTable['output_type'] = 'display_data';\n",
              "          await google.colab.output.renderOutput(dataTable, element);\n",
              "          const docLink = document.createElement('div');\n",
              "          docLink.innerHTML = docLinkHtml;\n",
              "          element.appendChild(docLink);\n",
              "        }\n",
              "      </script>\n",
              "    </div>\n",
              "  </div>\n",
              "  "
            ]
          },
          "metadata": {},
          "execution_count": 6
        }
      ]
    },
    {
      "cell_type": "markdown",
      "source": [
        "# Trimming the number of features\n",
        "Since the feature \"Outbound Number\" and \"Total Outbound\" is strongly correlated, they are merged into a single feature called \"Outbound Fraction\", which will contribute on behalf of the dropped features.\n"
      ],
      "metadata": {
        "id": "FSlEn7v9sUFk"
      }
    },
    {
      "cell_type": "code",
      "metadata": {
        "colab": {
          "base_uri": "https://localhost:8080/",
          "height": 206
        },
        "id": "h4dkrGea61CO",
        "outputId": "d0cbd568-78a6-45c6-d6aa-0c398180c8cf"
      },
      "source": [
        "data['Outbound Fraction'] = data['Total outbound']/data['Outbound number']\n",
        "data = data.drop(['Outbound number','Total outbound'],axis = 1)\n",
        "data.head()"
      ],
      "execution_count": 7,
      "outputs": [
        {
          "output_type": "execute_result",
          "data": {
            "text/plain": [
              "   Unitprice  Expire date  Pal grossweight  Pal height  Units per pal  \\\n",
              "0      0.058        547.0           105.60        1.56         1920.0   \n",
              "1      0.954        547.0           207.68        1.00          384.0   \n",
              "2      2.385        547.0           165.78        1.02          108.0   \n",
              "3      5.100        547.0           221.04        1.05           72.0   \n",
              "4        NaN        547.0              NaN         NaN            NaN   \n",
              "\n",
              "   Outbound Fraction  \n",
              "0         271.222222  \n",
              "1                NaN  \n",
              "2           1.916667  \n",
              "3                NaN  \n",
              "4                NaN  "
            ],
            "text/html": [
              "\n",
              "  <div id=\"df-29dc6bab-492b-4a03-88a9-df96178ade70\">\n",
              "    <div class=\"colab-df-container\">\n",
              "      <div>\n",
              "<style scoped>\n",
              "    .dataframe tbody tr th:only-of-type {\n",
              "        vertical-align: middle;\n",
              "    }\n",
              "\n",
              "    .dataframe tbody tr th {\n",
              "        vertical-align: top;\n",
              "    }\n",
              "\n",
              "    .dataframe thead th {\n",
              "        text-align: right;\n",
              "    }\n",
              "</style>\n",
              "<table border=\"1\" class=\"dataframe\">\n",
              "  <thead>\n",
              "    <tr style=\"text-align: right;\">\n",
              "      <th></th>\n",
              "      <th>Unitprice</th>\n",
              "      <th>Expire date</th>\n",
              "      <th>Pal grossweight</th>\n",
              "      <th>Pal height</th>\n",
              "      <th>Units per pal</th>\n",
              "      <th>Outbound Fraction</th>\n",
              "    </tr>\n",
              "  </thead>\n",
              "  <tbody>\n",
              "    <tr>\n",
              "      <th>0</th>\n",
              "      <td>0.058</td>\n",
              "      <td>547.0</td>\n",
              "      <td>105.60</td>\n",
              "      <td>1.56</td>\n",
              "      <td>1920.0</td>\n",
              "      <td>271.222222</td>\n",
              "    </tr>\n",
              "    <tr>\n",
              "      <th>1</th>\n",
              "      <td>0.954</td>\n",
              "      <td>547.0</td>\n",
              "      <td>207.68</td>\n",
              "      <td>1.00</td>\n",
              "      <td>384.0</td>\n",
              "      <td>NaN</td>\n",
              "    </tr>\n",
              "    <tr>\n",
              "      <th>2</th>\n",
              "      <td>2.385</td>\n",
              "      <td>547.0</td>\n",
              "      <td>165.78</td>\n",
              "      <td>1.02</td>\n",
              "      <td>108.0</td>\n",
              "      <td>1.916667</td>\n",
              "    </tr>\n",
              "    <tr>\n",
              "      <th>3</th>\n",
              "      <td>5.100</td>\n",
              "      <td>547.0</td>\n",
              "      <td>221.04</td>\n",
              "      <td>1.05</td>\n",
              "      <td>72.0</td>\n",
              "      <td>NaN</td>\n",
              "    </tr>\n",
              "    <tr>\n",
              "      <th>4</th>\n",
              "      <td>NaN</td>\n",
              "      <td>547.0</td>\n",
              "      <td>NaN</td>\n",
              "      <td>NaN</td>\n",
              "      <td>NaN</td>\n",
              "      <td>NaN</td>\n",
              "    </tr>\n",
              "  </tbody>\n",
              "</table>\n",
              "</div>\n",
              "      <button class=\"colab-df-convert\" onclick=\"convertToInteractive('df-29dc6bab-492b-4a03-88a9-df96178ade70')\"\n",
              "              title=\"Convert this dataframe to an interactive table.\"\n",
              "              style=\"display:none;\">\n",
              "        \n",
              "  <svg xmlns=\"http://www.w3.org/2000/svg\" height=\"24px\"viewBox=\"0 0 24 24\"\n",
              "       width=\"24px\">\n",
              "    <path d=\"M0 0h24v24H0V0z\" fill=\"none\"/>\n",
              "    <path d=\"M18.56 5.44l.94 2.06.94-2.06 2.06-.94-2.06-.94-.94-2.06-.94 2.06-2.06.94zm-11 1L8.5 8.5l.94-2.06 2.06-.94-2.06-.94L8.5 2.5l-.94 2.06-2.06.94zm10 10l.94 2.06.94-2.06 2.06-.94-2.06-.94-.94-2.06-.94 2.06-2.06.94z\"/><path d=\"M17.41 7.96l-1.37-1.37c-.4-.4-.92-.59-1.43-.59-.52 0-1.04.2-1.43.59L10.3 9.45l-7.72 7.72c-.78.78-.78 2.05 0 2.83L4 21.41c.39.39.9.59 1.41.59.51 0 1.02-.2 1.41-.59l7.78-7.78 2.81-2.81c.8-.78.8-2.07 0-2.86zM5.41 20L4 18.59l7.72-7.72 1.47 1.35L5.41 20z\"/>\n",
              "  </svg>\n",
              "      </button>\n",
              "      \n",
              "  <style>\n",
              "    .colab-df-container {\n",
              "      display:flex;\n",
              "      flex-wrap:wrap;\n",
              "      gap: 12px;\n",
              "    }\n",
              "\n",
              "    .colab-df-convert {\n",
              "      background-color: #E8F0FE;\n",
              "      border: none;\n",
              "      border-radius: 50%;\n",
              "      cursor: pointer;\n",
              "      display: none;\n",
              "      fill: #1967D2;\n",
              "      height: 32px;\n",
              "      padding: 0 0 0 0;\n",
              "      width: 32px;\n",
              "    }\n",
              "\n",
              "    .colab-df-convert:hover {\n",
              "      background-color: #E2EBFA;\n",
              "      box-shadow: 0px 1px 2px rgba(60, 64, 67, 0.3), 0px 1px 3px 1px rgba(60, 64, 67, 0.15);\n",
              "      fill: #174EA6;\n",
              "    }\n",
              "\n",
              "    [theme=dark] .colab-df-convert {\n",
              "      background-color: #3B4455;\n",
              "      fill: #D2E3FC;\n",
              "    }\n",
              "\n",
              "    [theme=dark] .colab-df-convert:hover {\n",
              "      background-color: #434B5C;\n",
              "      box-shadow: 0px 1px 3px 1px rgba(0, 0, 0, 0.15);\n",
              "      filter: drop-shadow(0px 1px 2px rgba(0, 0, 0, 0.3));\n",
              "      fill: #FFFFFF;\n",
              "    }\n",
              "  </style>\n",
              "\n",
              "      <script>\n",
              "        const buttonEl =\n",
              "          document.querySelector('#df-29dc6bab-492b-4a03-88a9-df96178ade70 button.colab-df-convert');\n",
              "        buttonEl.style.display =\n",
              "          google.colab.kernel.accessAllowed ? 'block' : 'none';\n",
              "\n",
              "        async function convertToInteractive(key) {\n",
              "          const element = document.querySelector('#df-29dc6bab-492b-4a03-88a9-df96178ade70');\n",
              "          const dataTable =\n",
              "            await google.colab.kernel.invokeFunction('convertToInteractive',\n",
              "                                                     [key], {});\n",
              "          if (!dataTable) return;\n",
              "\n",
              "          const docLinkHtml = 'Like what you see? Visit the ' +\n",
              "            '<a target=\"_blank\" href=https://colab.research.google.com/notebooks/data_table.ipynb>data table notebook</a>'\n",
              "            + ' to learn more about interactive tables.';\n",
              "          element.innerHTML = '';\n",
              "          dataTable['output_type'] = 'display_data';\n",
              "          await google.colab.output.renderOutput(dataTable, element);\n",
              "          const docLink = document.createElement('div');\n",
              "          docLink.innerHTML = docLinkHtml;\n",
              "          element.appendChild(docLink);\n",
              "        }\n",
              "      </script>\n",
              "    </div>\n",
              "  </div>\n",
              "  "
            ]
          },
          "metadata": {},
          "execution_count": 7
        }
      ]
    },
    {
      "cell_type": "markdown",
      "source": [
        "# Rechecking for any correlation\n",
        "Repeating the exercise for any strong pearson correlation"
      ],
      "metadata": {
        "id": "AeALtfWTtAy-"
      }
    },
    {
      "cell_type": "code",
      "metadata": {
        "colab": {
          "base_uri": "https://localhost:8080/",
          "height": 238
        },
        "id": "76b3gK8j8sok",
        "outputId": "fffcb172-7f86-4cd3-f761-d9c07313118b"
      },
      "source": [
        "data.corr(method ='pearson')"
      ],
      "execution_count": 8,
      "outputs": [
        {
          "output_type": "execute_result",
          "data": {
            "text/plain": [
              "                   Unitprice  Expire date  Pal grossweight  Pal height  \\\n",
              "Unitprice           1.000000    -0.648809         0.184989   -0.031787   \n",
              "Expire date        -0.648809     1.000000        -0.311792   -0.415777   \n",
              "Pal grossweight     0.184989    -0.311792         1.000000    0.412455   \n",
              "Pal height         -0.031787    -0.415777         0.412455    1.000000   \n",
              "Units per pal      -0.034507     0.309733         0.070743   -0.030092   \n",
              "Outbound Fraction  -0.085157     0.009647        -0.231229    0.248131   \n",
              "\n",
              "                   Units per pal  Outbound Fraction  \n",
              "Unitprice              -0.034507          -0.085157  \n",
              "Expire date             0.309733           0.009647  \n",
              "Pal grossweight         0.070743          -0.231229  \n",
              "Pal height             -0.030092           0.248131  \n",
              "Units per pal           1.000000           0.073829  \n",
              "Outbound Fraction       0.073829           1.000000  "
            ],
            "text/html": [
              "\n",
              "  <div id=\"df-0a157d0c-b936-4784-9f00-20f57199ee2d\">\n",
              "    <div class=\"colab-df-container\">\n",
              "      <div>\n",
              "<style scoped>\n",
              "    .dataframe tbody tr th:only-of-type {\n",
              "        vertical-align: middle;\n",
              "    }\n",
              "\n",
              "    .dataframe tbody tr th {\n",
              "        vertical-align: top;\n",
              "    }\n",
              "\n",
              "    .dataframe thead th {\n",
              "        text-align: right;\n",
              "    }\n",
              "</style>\n",
              "<table border=\"1\" class=\"dataframe\">\n",
              "  <thead>\n",
              "    <tr style=\"text-align: right;\">\n",
              "      <th></th>\n",
              "      <th>Unitprice</th>\n",
              "      <th>Expire date</th>\n",
              "      <th>Pal grossweight</th>\n",
              "      <th>Pal height</th>\n",
              "      <th>Units per pal</th>\n",
              "      <th>Outbound Fraction</th>\n",
              "    </tr>\n",
              "  </thead>\n",
              "  <tbody>\n",
              "    <tr>\n",
              "      <th>Unitprice</th>\n",
              "      <td>1.000000</td>\n",
              "      <td>-0.648809</td>\n",
              "      <td>0.184989</td>\n",
              "      <td>-0.031787</td>\n",
              "      <td>-0.034507</td>\n",
              "      <td>-0.085157</td>\n",
              "    </tr>\n",
              "    <tr>\n",
              "      <th>Expire date</th>\n",
              "      <td>-0.648809</td>\n",
              "      <td>1.000000</td>\n",
              "      <td>-0.311792</td>\n",
              "      <td>-0.415777</td>\n",
              "      <td>0.309733</td>\n",
              "      <td>0.009647</td>\n",
              "    </tr>\n",
              "    <tr>\n",
              "      <th>Pal grossweight</th>\n",
              "      <td>0.184989</td>\n",
              "      <td>-0.311792</td>\n",
              "      <td>1.000000</td>\n",
              "      <td>0.412455</td>\n",
              "      <td>0.070743</td>\n",
              "      <td>-0.231229</td>\n",
              "    </tr>\n",
              "    <tr>\n",
              "      <th>Pal height</th>\n",
              "      <td>-0.031787</td>\n",
              "      <td>-0.415777</td>\n",
              "      <td>0.412455</td>\n",
              "      <td>1.000000</td>\n",
              "      <td>-0.030092</td>\n",
              "      <td>0.248131</td>\n",
              "    </tr>\n",
              "    <tr>\n",
              "      <th>Units per pal</th>\n",
              "      <td>-0.034507</td>\n",
              "      <td>0.309733</td>\n",
              "      <td>0.070743</td>\n",
              "      <td>-0.030092</td>\n",
              "      <td>1.000000</td>\n",
              "      <td>0.073829</td>\n",
              "    </tr>\n",
              "    <tr>\n",
              "      <th>Outbound Fraction</th>\n",
              "      <td>-0.085157</td>\n",
              "      <td>0.009647</td>\n",
              "      <td>-0.231229</td>\n",
              "      <td>0.248131</td>\n",
              "      <td>0.073829</td>\n",
              "      <td>1.000000</td>\n",
              "    </tr>\n",
              "  </tbody>\n",
              "</table>\n",
              "</div>\n",
              "      <button class=\"colab-df-convert\" onclick=\"convertToInteractive('df-0a157d0c-b936-4784-9f00-20f57199ee2d')\"\n",
              "              title=\"Convert this dataframe to an interactive table.\"\n",
              "              style=\"display:none;\">\n",
              "        \n",
              "  <svg xmlns=\"http://www.w3.org/2000/svg\" height=\"24px\"viewBox=\"0 0 24 24\"\n",
              "       width=\"24px\">\n",
              "    <path d=\"M0 0h24v24H0V0z\" fill=\"none\"/>\n",
              "    <path d=\"M18.56 5.44l.94 2.06.94-2.06 2.06-.94-2.06-.94-.94-2.06-.94 2.06-2.06.94zm-11 1L8.5 8.5l.94-2.06 2.06-.94-2.06-.94L8.5 2.5l-.94 2.06-2.06.94zm10 10l.94 2.06.94-2.06 2.06-.94-2.06-.94-.94-2.06-.94 2.06-2.06.94z\"/><path d=\"M17.41 7.96l-1.37-1.37c-.4-.4-.92-.59-1.43-.59-.52 0-1.04.2-1.43.59L10.3 9.45l-7.72 7.72c-.78.78-.78 2.05 0 2.83L4 21.41c.39.39.9.59 1.41.59.51 0 1.02-.2 1.41-.59l7.78-7.78 2.81-2.81c.8-.78.8-2.07 0-2.86zM5.41 20L4 18.59l7.72-7.72 1.47 1.35L5.41 20z\"/>\n",
              "  </svg>\n",
              "      </button>\n",
              "      \n",
              "  <style>\n",
              "    .colab-df-container {\n",
              "      display:flex;\n",
              "      flex-wrap:wrap;\n",
              "      gap: 12px;\n",
              "    }\n",
              "\n",
              "    .colab-df-convert {\n",
              "      background-color: #E8F0FE;\n",
              "      border: none;\n",
              "      border-radius: 50%;\n",
              "      cursor: pointer;\n",
              "      display: none;\n",
              "      fill: #1967D2;\n",
              "      height: 32px;\n",
              "      padding: 0 0 0 0;\n",
              "      width: 32px;\n",
              "    }\n",
              "\n",
              "    .colab-df-convert:hover {\n",
              "      background-color: #E2EBFA;\n",
              "      box-shadow: 0px 1px 2px rgba(60, 64, 67, 0.3), 0px 1px 3px 1px rgba(60, 64, 67, 0.15);\n",
              "      fill: #174EA6;\n",
              "    }\n",
              "\n",
              "    [theme=dark] .colab-df-convert {\n",
              "      background-color: #3B4455;\n",
              "      fill: #D2E3FC;\n",
              "    }\n",
              "\n",
              "    [theme=dark] .colab-df-convert:hover {\n",
              "      background-color: #434B5C;\n",
              "      box-shadow: 0px 1px 3px 1px rgba(0, 0, 0, 0.15);\n",
              "      filter: drop-shadow(0px 1px 2px rgba(0, 0, 0, 0.3));\n",
              "      fill: #FFFFFF;\n",
              "    }\n",
              "  </style>\n",
              "\n",
              "      <script>\n",
              "        const buttonEl =\n",
              "          document.querySelector('#df-0a157d0c-b936-4784-9f00-20f57199ee2d button.colab-df-convert');\n",
              "        buttonEl.style.display =\n",
              "          google.colab.kernel.accessAllowed ? 'block' : 'none';\n",
              "\n",
              "        async function convertToInteractive(key) {\n",
              "          const element = document.querySelector('#df-0a157d0c-b936-4784-9f00-20f57199ee2d');\n",
              "          const dataTable =\n",
              "            await google.colab.kernel.invokeFunction('convertToInteractive',\n",
              "                                                     [key], {});\n",
              "          if (!dataTable) return;\n",
              "\n",
              "          const docLinkHtml = 'Like what you see? Visit the ' +\n",
              "            '<a target=\"_blank\" href=https://colab.research.google.com/notebooks/data_table.ipynb>data table notebook</a>'\n",
              "            + ' to learn more about interactive tables.';\n",
              "          element.innerHTML = '';\n",
              "          dataTable['output_type'] = 'display_data';\n",
              "          await google.colab.output.renderOutput(dataTable, element);\n",
              "          const docLink = document.createElement('div');\n",
              "          docLink.innerHTML = docLinkHtml;\n",
              "          element.appendChild(docLink);\n",
              "        }\n",
              "      </script>\n",
              "    </div>\n",
              "  </div>\n",
              "  "
            ]
          },
          "metadata": {},
          "execution_count": 8
        }
      ]
    },
    {
      "cell_type": "code",
      "metadata": {
        "id": "IwUzQlLjyjAW"
      },
      "source": [
        "columns = ['UnitPrice','ExpiryDate','Pal Grossweight','Pal Height','Units per pal','Outbound Fraction']\n",
        "index = list(range(1,2280,1))"
      ],
      "execution_count": 9,
      "outputs": []
    },
    {
      "cell_type": "markdown",
      "source": [
        "# Imputation\n",
        "Here we attempt to impute the null values, using iterative imputer and that uses a multivariate imputer using chained equations.\n",
        "Multivariate imputer that estimates each feature from all the others. The initial strategy is set as mean."
      ],
      "metadata": {
        "id": "ps7L74N_tKrE"
      }
    },
    {
      "cell_type": "code",
      "metadata": {
        "id": "EtvdP8ZGsld6"
      },
      "source": [
        "from sklearn.experimental import enable_iterative_imputer\n",
        "from sklearn.impute import IterativeImputer\n",
        "imp = IterativeImputer(initial_strategy = 'mean')\n",
        "d1 = imp.fit_transform(data)"
      ],
      "execution_count": 10,
      "outputs": []
    },
    {
      "cell_type": "markdown",
      "source": [
        "## The imputed data set"
      ],
      "metadata": {
        "id": "hlYrt7DWtljf"
      }
    },
    {
      "cell_type": "code",
      "metadata": {
        "colab": {
          "base_uri": "https://localhost:8080/",
          "height": 206
        },
        "id": "7QpVZ-xlzKUo",
        "outputId": "65bf2c2d-77fa-4f56-f078-bd2cf00b0620"
      },
      "source": [
        "df = pd.DataFrame(d1,index,columns)\n",
        "df.head()"
      ],
      "execution_count": 11,
      "outputs": [
        {
          "output_type": "execute_result",
          "data": {
            "text/plain": [
              "   UnitPrice  ExpiryDate  Pal Grossweight  Pal Height  Units per pal  \\\n",
              "1   0.058000       547.0       105.600000     1.56000    1920.000000   \n",
              "2   0.954000       547.0       207.680000     1.00000     384.000000   \n",
              "3   2.385000       547.0       165.780000     1.02000     108.000000   \n",
              "4   5.100000       547.0       221.040000     1.05000      72.000000   \n",
              "5   5.744388       547.0       226.791107     1.01051     892.403154   \n",
              "\n",
              "   Outbound Fraction  \n",
              "1         271.222222  \n",
              "2          17.004007  \n",
              "3           1.916667  \n",
              "4          24.986819  \n",
              "5          19.397517  "
            ],
            "text/html": [
              "\n",
              "  <div id=\"df-93174d84-2d72-460a-83f8-56e30e3dee55\">\n",
              "    <div class=\"colab-df-container\">\n",
              "      <div>\n",
              "<style scoped>\n",
              "    .dataframe tbody tr th:only-of-type {\n",
              "        vertical-align: middle;\n",
              "    }\n",
              "\n",
              "    .dataframe tbody tr th {\n",
              "        vertical-align: top;\n",
              "    }\n",
              "\n",
              "    .dataframe thead th {\n",
              "        text-align: right;\n",
              "    }\n",
              "</style>\n",
              "<table border=\"1\" class=\"dataframe\">\n",
              "  <thead>\n",
              "    <tr style=\"text-align: right;\">\n",
              "      <th></th>\n",
              "      <th>UnitPrice</th>\n",
              "      <th>ExpiryDate</th>\n",
              "      <th>Pal Grossweight</th>\n",
              "      <th>Pal Height</th>\n",
              "      <th>Units per pal</th>\n",
              "      <th>Outbound Fraction</th>\n",
              "    </tr>\n",
              "  </thead>\n",
              "  <tbody>\n",
              "    <tr>\n",
              "      <th>1</th>\n",
              "      <td>0.058000</td>\n",
              "      <td>547.0</td>\n",
              "      <td>105.600000</td>\n",
              "      <td>1.56000</td>\n",
              "      <td>1920.000000</td>\n",
              "      <td>271.222222</td>\n",
              "    </tr>\n",
              "    <tr>\n",
              "      <th>2</th>\n",
              "      <td>0.954000</td>\n",
              "      <td>547.0</td>\n",
              "      <td>207.680000</td>\n",
              "      <td>1.00000</td>\n",
              "      <td>384.000000</td>\n",
              "      <td>17.004007</td>\n",
              "    </tr>\n",
              "    <tr>\n",
              "      <th>3</th>\n",
              "      <td>2.385000</td>\n",
              "      <td>547.0</td>\n",
              "      <td>165.780000</td>\n",
              "      <td>1.02000</td>\n",
              "      <td>108.000000</td>\n",
              "      <td>1.916667</td>\n",
              "    </tr>\n",
              "    <tr>\n",
              "      <th>4</th>\n",
              "      <td>5.100000</td>\n",
              "      <td>547.0</td>\n",
              "      <td>221.040000</td>\n",
              "      <td>1.05000</td>\n",
              "      <td>72.000000</td>\n",
              "      <td>24.986819</td>\n",
              "    </tr>\n",
              "    <tr>\n",
              "      <th>5</th>\n",
              "      <td>5.744388</td>\n",
              "      <td>547.0</td>\n",
              "      <td>226.791107</td>\n",
              "      <td>1.01051</td>\n",
              "      <td>892.403154</td>\n",
              "      <td>19.397517</td>\n",
              "    </tr>\n",
              "  </tbody>\n",
              "</table>\n",
              "</div>\n",
              "      <button class=\"colab-df-convert\" onclick=\"convertToInteractive('df-93174d84-2d72-460a-83f8-56e30e3dee55')\"\n",
              "              title=\"Convert this dataframe to an interactive table.\"\n",
              "              style=\"display:none;\">\n",
              "        \n",
              "  <svg xmlns=\"http://www.w3.org/2000/svg\" height=\"24px\"viewBox=\"0 0 24 24\"\n",
              "       width=\"24px\">\n",
              "    <path d=\"M0 0h24v24H0V0z\" fill=\"none\"/>\n",
              "    <path d=\"M18.56 5.44l.94 2.06.94-2.06 2.06-.94-2.06-.94-.94-2.06-.94 2.06-2.06.94zm-11 1L8.5 8.5l.94-2.06 2.06-.94-2.06-.94L8.5 2.5l-.94 2.06-2.06.94zm10 10l.94 2.06.94-2.06 2.06-.94-2.06-.94-.94-2.06-.94 2.06-2.06.94z\"/><path d=\"M17.41 7.96l-1.37-1.37c-.4-.4-.92-.59-1.43-.59-.52 0-1.04.2-1.43.59L10.3 9.45l-7.72 7.72c-.78.78-.78 2.05 0 2.83L4 21.41c.39.39.9.59 1.41.59.51 0 1.02-.2 1.41-.59l7.78-7.78 2.81-2.81c.8-.78.8-2.07 0-2.86zM5.41 20L4 18.59l7.72-7.72 1.47 1.35L5.41 20z\"/>\n",
              "  </svg>\n",
              "      </button>\n",
              "      \n",
              "  <style>\n",
              "    .colab-df-container {\n",
              "      display:flex;\n",
              "      flex-wrap:wrap;\n",
              "      gap: 12px;\n",
              "    }\n",
              "\n",
              "    .colab-df-convert {\n",
              "      background-color: #E8F0FE;\n",
              "      border: none;\n",
              "      border-radius: 50%;\n",
              "      cursor: pointer;\n",
              "      display: none;\n",
              "      fill: #1967D2;\n",
              "      height: 32px;\n",
              "      padding: 0 0 0 0;\n",
              "      width: 32px;\n",
              "    }\n",
              "\n",
              "    .colab-df-convert:hover {\n",
              "      background-color: #E2EBFA;\n",
              "      box-shadow: 0px 1px 2px rgba(60, 64, 67, 0.3), 0px 1px 3px 1px rgba(60, 64, 67, 0.15);\n",
              "      fill: #174EA6;\n",
              "    }\n",
              "\n",
              "    [theme=dark] .colab-df-convert {\n",
              "      background-color: #3B4455;\n",
              "      fill: #D2E3FC;\n",
              "    }\n",
              "\n",
              "    [theme=dark] .colab-df-convert:hover {\n",
              "      background-color: #434B5C;\n",
              "      box-shadow: 0px 1px 3px 1px rgba(0, 0, 0, 0.15);\n",
              "      filter: drop-shadow(0px 1px 2px rgba(0, 0, 0, 0.3));\n",
              "      fill: #FFFFFF;\n",
              "    }\n",
              "  </style>\n",
              "\n",
              "      <script>\n",
              "        const buttonEl =\n",
              "          document.querySelector('#df-93174d84-2d72-460a-83f8-56e30e3dee55 button.colab-df-convert');\n",
              "        buttonEl.style.display =\n",
              "          google.colab.kernel.accessAllowed ? 'block' : 'none';\n",
              "\n",
              "        async function convertToInteractive(key) {\n",
              "          const element = document.querySelector('#df-93174d84-2d72-460a-83f8-56e30e3dee55');\n",
              "          const dataTable =\n",
              "            await google.colab.kernel.invokeFunction('convertToInteractive',\n",
              "                                                     [key], {});\n",
              "          if (!dataTable) return;\n",
              "\n",
              "          const docLinkHtml = 'Like what you see? Visit the ' +\n",
              "            '<a target=\"_blank\" href=https://colab.research.google.com/notebooks/data_table.ipynb>data table notebook</a>'\n",
              "            + ' to learn more about interactive tables.';\n",
              "          element.innerHTML = '';\n",
              "          dataTable['output_type'] = 'display_data';\n",
              "          await google.colab.output.renderOutput(dataTable, element);\n",
              "          const docLink = document.createElement('div');\n",
              "          docLink.innerHTML = docLinkHtml;\n",
              "          element.appendChild(docLink);\n",
              "        }\n",
              "      </script>\n",
              "    </div>\n",
              "  </div>\n",
              "  "
            ]
          },
          "metadata": {},
          "execution_count": 11
        }
      ]
    },
    {
      "cell_type": "markdown",
      "source": [
        "# Scaling the data\n",
        "In order to avoid a large variation in the dataset (because the range of data inside each feature varies substantially), scaling the datapoints across each feature for every observation is necessary."
      ],
      "metadata": {
        "id": "jgHcA1Y3tobD"
      }
    },
    {
      "cell_type": "code",
      "metadata": {
        "id": "cHfZk2cNsld7",
        "colab": {
          "base_uri": "https://localhost:8080/",
          "height": 206
        },
        "outputId": "c9ccb1a3-23f9-4c6d-9559-06a6ca66d337"
      },
      "source": [
        "from sklearn.preprocessing import MaxAbsScaler\n",
        "d2 = MaxAbsScaler().fit_transform(d1)\n",
        "df = pd.DataFrame(d2,index,columns)\n",
        "df.head()"
      ],
      "execution_count": 12,
      "outputs": [
        {
          "output_type": "execute_result",
          "data": {
            "text/plain": [
              "   UnitPrice  ExpiryDate  Pal Grossweight  Pal Height  Units per pal  \\\n",
              "1   0.000112     0.09342         0.116402    0.722222       0.009600   \n",
              "2   0.001840     0.09342         0.228924    0.462963       0.001920   \n",
              "3   0.004599     0.09342         0.182738    0.472222       0.000540   \n",
              "4   0.009834     0.09342         0.243651    0.486111       0.000360   \n",
              "5   0.011077     0.09342         0.249990    0.467829       0.004462   \n",
              "\n",
              "   Outbound Fraction  \n",
              "1           0.347721  \n",
              "2           0.021800  \n",
              "3           0.002457  \n",
              "4           0.032034  \n",
              "5           0.024869  "
            ],
            "text/html": [
              "\n",
              "  <div id=\"df-86884fed-d918-4018-8642-18932ba79784\">\n",
              "    <div class=\"colab-df-container\">\n",
              "      <div>\n",
              "<style scoped>\n",
              "    .dataframe tbody tr th:only-of-type {\n",
              "        vertical-align: middle;\n",
              "    }\n",
              "\n",
              "    .dataframe tbody tr th {\n",
              "        vertical-align: top;\n",
              "    }\n",
              "\n",
              "    .dataframe thead th {\n",
              "        text-align: right;\n",
              "    }\n",
              "</style>\n",
              "<table border=\"1\" class=\"dataframe\">\n",
              "  <thead>\n",
              "    <tr style=\"text-align: right;\">\n",
              "      <th></th>\n",
              "      <th>UnitPrice</th>\n",
              "      <th>ExpiryDate</th>\n",
              "      <th>Pal Grossweight</th>\n",
              "      <th>Pal Height</th>\n",
              "      <th>Units per pal</th>\n",
              "      <th>Outbound Fraction</th>\n",
              "    </tr>\n",
              "  </thead>\n",
              "  <tbody>\n",
              "    <tr>\n",
              "      <th>1</th>\n",
              "      <td>0.000112</td>\n",
              "      <td>0.09342</td>\n",
              "      <td>0.116402</td>\n",
              "      <td>0.722222</td>\n",
              "      <td>0.009600</td>\n",
              "      <td>0.347721</td>\n",
              "    </tr>\n",
              "    <tr>\n",
              "      <th>2</th>\n",
              "      <td>0.001840</td>\n",
              "      <td>0.09342</td>\n",
              "      <td>0.228924</td>\n",
              "      <td>0.462963</td>\n",
              "      <td>0.001920</td>\n",
              "      <td>0.021800</td>\n",
              "    </tr>\n",
              "    <tr>\n",
              "      <th>3</th>\n",
              "      <td>0.004599</td>\n",
              "      <td>0.09342</td>\n",
              "      <td>0.182738</td>\n",
              "      <td>0.472222</td>\n",
              "      <td>0.000540</td>\n",
              "      <td>0.002457</td>\n",
              "    </tr>\n",
              "    <tr>\n",
              "      <th>4</th>\n",
              "      <td>0.009834</td>\n",
              "      <td>0.09342</td>\n",
              "      <td>0.243651</td>\n",
              "      <td>0.486111</td>\n",
              "      <td>0.000360</td>\n",
              "      <td>0.032034</td>\n",
              "    </tr>\n",
              "    <tr>\n",
              "      <th>5</th>\n",
              "      <td>0.011077</td>\n",
              "      <td>0.09342</td>\n",
              "      <td>0.249990</td>\n",
              "      <td>0.467829</td>\n",
              "      <td>0.004462</td>\n",
              "      <td>0.024869</td>\n",
              "    </tr>\n",
              "  </tbody>\n",
              "</table>\n",
              "</div>\n",
              "      <button class=\"colab-df-convert\" onclick=\"convertToInteractive('df-86884fed-d918-4018-8642-18932ba79784')\"\n",
              "              title=\"Convert this dataframe to an interactive table.\"\n",
              "              style=\"display:none;\">\n",
              "        \n",
              "  <svg xmlns=\"http://www.w3.org/2000/svg\" height=\"24px\"viewBox=\"0 0 24 24\"\n",
              "       width=\"24px\">\n",
              "    <path d=\"M0 0h24v24H0V0z\" fill=\"none\"/>\n",
              "    <path d=\"M18.56 5.44l.94 2.06.94-2.06 2.06-.94-2.06-.94-.94-2.06-.94 2.06-2.06.94zm-11 1L8.5 8.5l.94-2.06 2.06-.94-2.06-.94L8.5 2.5l-.94 2.06-2.06.94zm10 10l.94 2.06.94-2.06 2.06-.94-2.06-.94-.94-2.06-.94 2.06-2.06.94z\"/><path d=\"M17.41 7.96l-1.37-1.37c-.4-.4-.92-.59-1.43-.59-.52 0-1.04.2-1.43.59L10.3 9.45l-7.72 7.72c-.78.78-.78 2.05 0 2.83L4 21.41c.39.39.9.59 1.41.59.51 0 1.02-.2 1.41-.59l7.78-7.78 2.81-2.81c.8-.78.8-2.07 0-2.86zM5.41 20L4 18.59l7.72-7.72 1.47 1.35L5.41 20z\"/>\n",
              "  </svg>\n",
              "      </button>\n",
              "      \n",
              "  <style>\n",
              "    .colab-df-container {\n",
              "      display:flex;\n",
              "      flex-wrap:wrap;\n",
              "      gap: 12px;\n",
              "    }\n",
              "\n",
              "    .colab-df-convert {\n",
              "      background-color: #E8F0FE;\n",
              "      border: none;\n",
              "      border-radius: 50%;\n",
              "      cursor: pointer;\n",
              "      display: none;\n",
              "      fill: #1967D2;\n",
              "      height: 32px;\n",
              "      padding: 0 0 0 0;\n",
              "      width: 32px;\n",
              "    }\n",
              "\n",
              "    .colab-df-convert:hover {\n",
              "      background-color: #E2EBFA;\n",
              "      box-shadow: 0px 1px 2px rgba(60, 64, 67, 0.3), 0px 1px 3px 1px rgba(60, 64, 67, 0.15);\n",
              "      fill: #174EA6;\n",
              "    }\n",
              "\n",
              "    [theme=dark] .colab-df-convert {\n",
              "      background-color: #3B4455;\n",
              "      fill: #D2E3FC;\n",
              "    }\n",
              "\n",
              "    [theme=dark] .colab-df-convert:hover {\n",
              "      background-color: #434B5C;\n",
              "      box-shadow: 0px 1px 3px 1px rgba(0, 0, 0, 0.15);\n",
              "      filter: drop-shadow(0px 1px 2px rgba(0, 0, 0, 0.3));\n",
              "      fill: #FFFFFF;\n",
              "    }\n",
              "  </style>\n",
              "\n",
              "      <script>\n",
              "        const buttonEl =\n",
              "          document.querySelector('#df-86884fed-d918-4018-8642-18932ba79784 button.colab-df-convert');\n",
              "        buttonEl.style.display =\n",
              "          google.colab.kernel.accessAllowed ? 'block' : 'none';\n",
              "\n",
              "        async function convertToInteractive(key) {\n",
              "          const element = document.querySelector('#df-86884fed-d918-4018-8642-18932ba79784');\n",
              "          const dataTable =\n",
              "            await google.colab.kernel.invokeFunction('convertToInteractive',\n",
              "                                                     [key], {});\n",
              "          if (!dataTable) return;\n",
              "\n",
              "          const docLinkHtml = 'Like what you see? Visit the ' +\n",
              "            '<a target=\"_blank\" href=https://colab.research.google.com/notebooks/data_table.ipynb>data table notebook</a>'\n",
              "            + ' to learn more about interactive tables.';\n",
              "          element.innerHTML = '';\n",
              "          dataTable['output_type'] = 'display_data';\n",
              "          await google.colab.output.renderOutput(dataTable, element);\n",
              "          const docLink = document.createElement('div');\n",
              "          docLink.innerHTML = docLinkHtml;\n",
              "          element.appendChild(docLink);\n",
              "        }\n",
              "      </script>\n",
              "    </div>\n",
              "  </div>\n",
              "  "
            ]
          },
          "metadata": {},
          "execution_count": 12
        }
      ]
    },
    {
      "cell_type": "markdown",
      "source": [
        "# Plotting the data in terms to 2 principal components "
      ],
      "metadata": {
        "id": "dSfS9b3Jt511"
      }
    },
    {
      "cell_type": "code",
      "metadata": {
        "colab": {
          "base_uri": "https://localhost:8080/",
          "height": 279
        },
        "id": "Baz2w5Py_S6e",
        "outputId": "12c7d859-aa98-4c55-c7f4-a90891b30b8f"
      },
      "source": [
        "from itertools import cycle\n",
        "from matplotlib import pyplot as plt\n",
        "for k in range(len(d2)):\n",
        "  plt.plot(d2[k,1],d2[k,0],  'g.')\n",
        "plt.xlabel('Principal Component 1')\n",
        "plt.ylabel('Principal Component 2')\n",
        "\n",
        "plt.show()\n"
      ],
      "execution_count": 13,
      "outputs": [
        {
          "output_type": "display_data",
          "data": {
            "text/plain": [
              "<Figure size 432x288 with 1 Axes>"
            ],
            "image/png": "[encoded data removed]"
          },
          "metadata": {
            "needs_background": "light"
          }
        }
      ]
    },
    {
      "cell_type": "markdown",
      "source": [
        "## Observations from graph above\n",
        "The datapoints obtained after scaling down and imputation, have some rather nasty outliers. These outliers would skew any analysis towards false centers and needs to be dealt with. These outlier occur due to the fact the unit of each observation is different and so is their quantity. \n",
        "Here, quantity takes a quality of its own and skew the data points after clustering.\n",
        "So, these outlier points are initially estimated."
      ],
      "metadata": {
        "id": "3juAi_u0uf8V"
      }
    },
    {
      "cell_type": "markdown",
      "source": [
        "# Isolating the outliers\n",
        "Here, isolation forest method is used to detect outliers.It returns the anomaly score of each sample using the IsolationForest algorithm\n",
        "\n",
        "The IsolationForest ‘isolates’ observations by randomly selecting a feature and then randomly selecting a split value between the maximum and minimum values of the selected feature.\n",
        "\n",
        "Since recursive partitioning can be represented by a tree structure, the number of splittings required to isolate a sample is equivalent to the path length from the root node to the terminating node."
      ],
      "metadata": {
        "id": "zf31fPeZxFrn"
      }
    },
    {
      "cell_type": "code",
      "metadata": {
        "id": "JLVtOuSx9kVW"
      },
      "source": [
        "from sklearn.ensemble import IsolationForest\n"
      ],
      "execution_count": 14,
      "outputs": []
    },
    {
      "cell_type": "code",
      "metadata": {
        "id": "KSPhRUIGAg5L"
      },
      "source": [
        "iso = IsolationForest(random_state = 0, max_features = 6)\n",
        "d_ = iso.fit_predict(d2)"
      ],
      "execution_count": 15,
      "outputs": []
    },
    {
      "cell_type": "markdown",
      "source": [
        "# Estimating the positions of the outliers"
      ],
      "metadata": {
        "id": "UTc_W4taxfb6"
      }
    },
    {
      "cell_type": "code",
      "metadata": {
        "colab": {
          "base_uri": "https://localhost:8080/"
        },
        "id": "GFT2NNqZRVDy",
        "outputId": "a76da8a4-dbd5-417c-f941-887d7644cc8f"
      },
      "source": [
        "indi_1 = []\n",
        "for i in range(len(d_)):\n",
        "  if d_[i] == -1:\n",
        "    indi_1.append(i)\n",
        "print(\"The number of outliers are: \", len(indi_1))"
      ],
      "execution_count": 16,
      "outputs": [
        {
          "output_type": "stream",
          "name": "stdout",
          "text": [
            "The number of outliers are:  225\n"
          ]
        }
      ]
    },
    {
      "cell_type": "markdown",
      "source": [
        "# Removing the outliers"
      ],
      "metadata": {
        "id": "iZF0mqlGxiwN"
      }
    },
    {
      "cell_type": "code",
      "metadata": {
        "colab": {
          "base_uri": "https://localhost:8080/"
        },
        "id": "Iwwk5kDsS0n0",
        "outputId": "9384e4d5-a745-4b53-b86f-5a16f51710f3"
      },
      "source": [
        "d2 = np.delete(d2,indi_1,0)\n",
        "print(\"The number of remaining elements are: \", len(d2))"
      ],
      "execution_count": 17,
      "outputs": [
        {
          "output_type": "stream",
          "name": "stdout",
          "text": [
            "The number of remaining elements are:  2054\n"
          ]
        }
      ]
    },
    {
      "cell_type": "markdown",
      "source": [
        "## Operating Principal Component Analysis\n",
        "As there are 6 features across each observation, this data set needs to be compressed in order to be viewed feasibly in 2 dimensional graphs. Principal Component analysis achieves this by reducing the number of features into 2 principal components based on their relative projections on the plane.\n",
        "\n",
        "This stage has the functions that are responsible for dimensionality reduction. Upon conducting variance analysis, 2 factors account for 95% of the variance associated with the features. So, the number of components are kept 2."
      ],
      "metadata": {
        "id": "IUG-TjPrx1fA"
      }
    },
    {
      "cell_type": "code",
      "metadata": {
        "colab": {
          "base_uri": "https://localhost:8080/"
        },
        "id": "8agZkQg6sld7",
        "outputId": "f9034100-c745-4457-9bbc-743aea242943"
      },
      "source": [
        "from sklearn.decomposition import PCA\n",
        "pca = PCA(n_components=2)\n",
        "d3 = pca.fit_transform(d2)\n",
        "print(\"The variance ratio is: \", pca.explained_variance_ratio_)\n",
        "print(\"and the singular values are: \", pca.singular_values_)"
      ],
      "execution_count": 18,
      "outputs": [
        {
          "output_type": "stream",
          "name": "stdout",
          "text": [
            "The variance ratio is:  [0.63158914 0.33344683]\n",
            "and the singular values are:  [5.78576903 4.20394535]\n"
          ]
        }
      ]
    },
    {
      "cell_type": "markdown",
      "source": [
        "# Output from PCA\n",
        "Following plot shows the output for the dataset which are processed after PCA."
      ],
      "metadata": {
        "id": "hf5TJJ-Gx60Q"
      }
    },
    {
      "cell_type": "code",
      "metadata": {
        "colab": {
          "base_uri": "https://localhost:8080/",
          "height": 279
        },
        "id": "3qqEFTWlonlg",
        "outputId": "ad1d8f63-7ee7-4990-9f39-6c3e621dca3a"
      },
      "source": [
        "from itertools import cycle\n",
        "from matplotlib import pyplot as plt\n",
        "for k in range(len(d3)):\n",
        "  plt.plot(d3[k,1],d3[k,0],  'r.')\n",
        "plt.xlabel('Principal Component 1')\n",
        "plt.ylabel('Principal Component 2')\n",
        "\n",
        "plt.show()\n"
      ],
      "execution_count": 19,
      "outputs": [
        {
          "output_type": "display_data",
          "data": {
            "text/plain": [
              "<Figure size 432x288 with 1 Axes>"
            ],
            "image/png": "[encoded data removed]"
          },
          "metadata": {
            "needs_background": "light"
          }
        }
      ]
    },
    {
      "cell_type": "markdown",
      "source": [
        "# Clustering and Performance Evaluation\n",
        "Algorithms like K-means, BIRCH and Affinity Propagation are implemented in these functions. It is linked to the evaluation metrics and the plotter functions which will plot the distributions of the 2 components with respect to each other.\n",
        "\n",
        "Here due to the absence of any sort of categorical variables or any variables indicating the \"ground truth\", internal evaluation metrics like Silhouette coefficient, Calinski-Harabasz Index and Davies-Bouldin Index are used to measure the effectiveness of the clustering. These metrics measure the inter- and intra-cluster distances by using different approaches."
      ],
      "metadata": {
        "id": "UsJldq1CydJ4"
      }
    },
    {
      "cell_type": "markdown",
      "source": [
        "## K-Means Clustering"
      ],
      "metadata": {
        "id": "LqsTXn2yyz4l"
      }
    },
    {
      "cell_type": "code",
      "metadata": {
        "colab": {
          "base_uri": "https://localhost:8080/",
          "height": 513
        },
        "id": "F7QTOmnXsld8",
        "outputId": "bdfac2c9-07c0-4b3f-e1ba-98463e7033b8"
      },
      "source": [
        "from sklearn.cluster import KMeans\n",
        "distortions = []\n",
        "K = range(1,50)\n",
        "for k in K:\n",
        "    kmeanModel = KMeans(n_clusters=k)\n",
        "    kmeanModel.fit(d3)\n",
        "    distortions.append(kmeanModel.inertia_)\n",
        "plt.figure(figsize=(16,8))\n",
        "plt.plot(K, distortions, 'bx-')\n",
        "plt.xlabel('k')\n",
        "plt.ylabel('Distortion')\n",
        "plt.title('The Elbow Method showing the optimal k')\n",
        "plt.show()\n"
      ],
      "execution_count": 20,
      "outputs": [
        {
          "output_type": "display_data",
          "data": {
            "text/plain": [
              "<Figure size 1152x576 with 1 Axes>"
            ],
            "image/png": "[encoded data removed]"
          },
          "metadata": {
            "needs_background": "light"
          }
        }
      ]
    },
    {
      "cell_type": "markdown",
      "source": [
        "The point of inflexion for this curve would indicate a knee point, which would provide us with the ideal number of clusters. In this case it is near 5."
      ],
      "metadata": {
        "id": "yO1DL9aEy2hY"
      }
    },
    {
      "cell_type": "code",
      "metadata": {
        "colab": {
          "base_uri": "https://localhost:8080/",
          "height": 364
        },
        "id": "V6QsMSRCTQxM",
        "outputId": "206d2dbf-cdd2-4949-b219-036453d3ce6e"
      },
      "source": [
        "kmeans = KMeans(n_clusters=5, random_state = 0).fit(d3)\n",
        "label = kmeans.fit_predict(d3)\n",
        "u_labels = np.unique(label)\n",
        "from itertools import cycle\n",
        "from matplotlib import pyplot as plt\n",
        "colors = cycle('bgrcmykbgrcmykbgrcmykbgrcmyk')\n",
        "for k, col in zip(range(len(u_labels)), colors):\n",
        "                my_members = label == k\n",
        "                plt.plot(d3[my_members, 1], d3[my_members, 0], col + '.')\n",
        "plt.xlabel('Principal Component 1')\n",
        "plt.ylabel('Principal Component 2')\n",
        "plt.title('Number of clusters detected: %d' % len(u_labels))\n",
        "plt.show()\n",
        "print('No. of clusters:', len(u_labels))\n",
        "from sklearn import metrics\n",
        "from sklearn.metrics import davies_bouldin_score\n",
        "sil = metrics.silhouette_score(d3, label, metric='euclidean')\n",
        "print(\"Silhoutte score is: \\t\\t\\t\\t\\t  \", sil)\n",
        "ch = metrics.calinski_harabasz_score(d3,label)\n",
        "print(\"Calinski - Harabasz Index score is: \", ch)\n",
        "db = davies_bouldin_score(d3, label)\n",
        "print(\"Davies-Bouldin score is: \\t\\t\\t  \", db)"
      ],
      "execution_count": 21,
      "outputs": [
        {
          "output_type": "display_data",
          "data": {
            "text/plain": [
              "<Figure size 432x288 with 1 Axes>"
            ],
            "image/png": "[encoded data removed]"
          },
          "metadata": {
            "needs_background": "light"
          }
        },
        {
          "output_type": "stream",
          "name": "stdout",
          "text": [
            "No. of clusters: 5\n",
            "Silhoutte score is: \t\t\t\t\t   0.5254592488278931\n",
            "Calinski - Harabasz Index score is:  2140.1591886998417\n",
            "Davies-Bouldin score is: \t\t\t   0.6355548902373604\n"
          ]
        }
      ]
    },
    {
      "cell_type": "markdown",
      "source": [
        "## BIRCH"
      ],
      "metadata": {
        "id": "3ez3vgJHy4R4"
      }
    },
    {
      "cell_type": "code",
      "metadata": {
        "colab": {
          "base_uri": "https://localhost:8080/",
          "height": 364
        },
        "id": "DGWTmtF-sld_",
        "outputId": "05248c70-0e93-4c71-eb39-c7ca81427bec"
      },
      "source": [
        "from sklearn.cluster import Birch\n",
        "BRC= Birch(threshold = 0.0, branching_factor=375, n_clusters = 5).fit(d3)\n",
        "label1 = BRC.predict(d3)\n",
        "u_label1 = np.unique(label1)\n",
        "\n",
        "print('No. of clusters', len(u_label1))\n",
        "colors = cycle('bgrcmykbgrcmykbgrcmykbgrcmyk')\n",
        "for k, col in zip(range(len(u_label1)), colors):\n",
        "                my_members = label1 == k\n",
        "                plt.plot(d3[my_members, 1], d3[my_members, 0], col + '.')\n",
        "plt.xlabel('Principal Component 1')\n",
        "plt.ylabel('Principal Component 2')\n",
        "plt.title('Number of clusters detected: %d'% len(u_label1))\n",
        "plt.show()\n",
        "sil = metrics.silhouette_score(d3, label1, metric='euclidean')\n",
        "print(\"Silhoutte score is:  \\t\\t\\t\\t\\t  \", sil)\n",
        "ch = metrics.calinski_harabasz_score(d3,label1)\n",
        "print(\"Calinski - Harabasz Index score is: \", ch)\n",
        "db = davies_bouldin_score(d3, label1)\n",
        "print(\"Davies-Bouldin score is: \\t\\t\\t  \", db)\n"
      ],
      "execution_count": 22,
      "outputs": [
        {
          "output_type": "stream",
          "name": "stdout",
          "text": [
            "No. of clusters 5\n"
          ]
        },
        {
          "output_type": "display_data",
          "data": {
            "text/plain": [
              "<Figure size 432x288 with 1 Axes>"
            ],
            "image/png": "[encoded data removed]"
          },
          "metadata": {
            "needs_background": "light"
          }
        },
        {
          "output_type": "stream",
          "name": "stdout",
          "text": [
            "Silhoutte score is:  \t\t\t\t\t   0.521507680736681\n",
            "Calinski - Harabasz Index score is:  1683.6242432748102\n",
            "Davies-Bouldin score is: \t\t\t   0.6978443570239267\n"
          ]
        }
      ]
    },
    {
      "cell_type": "markdown",
      "source": [
        "## Agglomerative Hierarchical Clustering"
      ],
      "metadata": {
        "id": "CPTNcJWYy6oh"
      }
    },
    {
      "cell_type": "code",
      "metadata": {
        "colab": {
          "base_uri": "https://localhost:8080/",
          "height": 814
        },
        "id": "1IgIyBfaNh6h",
        "outputId": "7e56f8a3-b511-42be-edb0-4d7d8a813112"
      },
      "source": [
        "from sklearn.cluster import AgglomerativeClustering\n",
        "from scipy.cluster import hierarchy\n",
        "label3 = AgglomerativeClustering(n_clusters = 5).fit_predict(d3)\n",
        "u_label3 = np.unique(label3)\n",
        "print('No. of clusters', len(u_label3))\n",
        "Z = hierarchy.linkage(d3, 'single')\n",
        "plt.figure()\n",
        "dn = hierarchy.dendrogram(Z)\n",
        "hierarchy.set_link_color_palette(['m', 'c', 'y', 'k'])\n",
        "fig, axes = plt.subplots(1, 2, figsize=(8, 3))\n",
        "dn1 = hierarchy.dendrogram(Z, ax=axes[0], above_threshold_color='y',orientation='top')\n",
        "dn2 = hierarchy.dendrogram(Z, ax=axes[1], above_threshold_color='#bcbddc',orientation='right')\n",
        "hierarchy.set_link_color_palette(None)  \n",
        "plt.show()\n",
        "colors = cycle('bgrcmykbgrcmykbgrcmykbgrcmyk')\n",
        "for k, col in zip(range(len(u_label3)), colors):\n",
        "                my_members = label3 == k\n",
        "                plt.plot(d3[my_members, 1], d3[my_members, 0], col + '.')\n",
        "plt.xlabel('Principal Component 1')\n",
        "plt.ylabel('Principal Component 2')\n",
        "plt.title('Number of clusters detected: %d'% len(u_label3))\n",
        "plt.show()\n",
        "sil = metrics.silhouette_score(d3, label3, metric='euclidean')\n",
        "print(\"Silhoutte score is:  \\t\\t\\t\\t\\t  \", sil)\n",
        "ch = metrics.calinski_harabasz_score(d3,label3)\n",
        "print(\"Calinski - Harabasz Index score is: \", ch)\n",
        "db = davies_bouldin_score(d3, label3)\n",
        "print(\"Davies-Bouldin score is: \\t\\t\\t  \", db)"
      ],
      "execution_count": 23,
      "outputs": [
        {
          "output_type": "stream",
          "name": "stdout",
          "text": [
            "No. of clusters 5\n"
          ]
        },
        {
          "output_type": "display_data",
          "data": {
            "text/plain": [
              "<Figure size 432x288 with 1 Axes>"
            ],
            "image/png": "[encoded data removed]"
          },
          "metadata": {
            "needs_background": "light"
          }
        },
        {
          "output_type": "display_data",
          "data": {
            "text/plain": [
              "<Figure size 576x216 with 2 Axes>"
            ],
            "image/png": "[encoded data removed]"
          },
          "metadata": {
            "needs_background": "light"
          }
        },
        {
          "output_type": "display_data",
          "data": {
            "text/plain": [
              "<Figure size 432x288 with 1 Axes>"
            ],
            "image/png": "[encoded data removed]"
          },
          "metadata": {
            "needs_background": "light"
          }
        },
        {
          "output_type": "stream",
          "name": "stdout",
          "text": [
            "Silhoutte score is:  \t\t\t\t\t   0.46011420995365215\n",
            "Calinski - Harabasz Index score is:  1854.5224637098295\n",
            "Davies-Bouldin score is: \t\t\t   0.6668705321730048\n"
          ]
        }
      ]
    },
    {
      "cell_type": "markdown",
      "source": [
        "## Affinity Propagation"
      ],
      "metadata": {
        "id": "64F3Wpr_y-QW"
      }
    },
    {
      "cell_type": "code",
      "metadata": {
        "colab": {
          "base_uri": "https://localhost:8080/",
          "height": 364
        },
        "id": "JwvCR44S3OWO",
        "outputId": "d29f2684-c04f-4ed4-9b7a-f678655d5a1c"
      },
      "source": [
        "from sklearn.cluster import AffinityPropagation\n",
        "af = AffinityPropagation(damping = 0.85).fit(d3)\n",
        "label4 = af.predict(d3)\n",
        "u_label4 = np.unique(label4)\n",
        "print('No. of clusters', len(u_label4))\n",
        "colors = cycle('bgrcmykbgrcmykbgrcmykbgrcmyk')\n",
        "for k, col in zip(range(len(u_label4)), colors):\n",
        "                my_members = label3 == k\n",
        "                plt.plot(d3[my_members, 1], d3[my_members, 0], col + '.')\n",
        "plt.xlabel('Principal Component 1')\n",
        "plt.ylabel('Principal Component 2')\n",
        "plt.title('Number of clusters detected: %d'% len(u_label4))\n",
        "plt.show()\n",
        "sil = metrics.silhouette_score(d3, label4, metric='euclidean')\n",
        "print(\"Silhoutte score is:  \\t\\t\\t\\t\\t  \", sil)\n",
        "ch = metrics.calinski_harabasz_score(d3,label4)\n",
        "print(\"Calinski - Harabasz Index score is: \", ch)\n",
        "db = davies_bouldin_score(d3, label4)\n",
        "print(\"Davies-Bouldin score is: \\t\\t\\t  \", db)"
      ],
      "execution_count": 24,
      "outputs": [
        {
          "output_type": "stream",
          "name": "stdout",
          "text": [
            "No. of clusters 42\n"
          ]
        },
        {
          "output_type": "display_data",
          "data": {
            "text/plain": [
              "<Figure size 432x288 with 1 Axes>"
            ],
            "image/png": "[encoded data removed]"
          },
          "metadata": {
            "needs_background": "light"
          }
        },
        {
          "output_type": "stream",
          "name": "stdout",
          "text": [
            "Silhoutte score is:  \t\t\t\t\t   0.6047121243177627\n",
            "Calinski - Harabasz Index score is:  4969.666108941415\n",
            "Davies-Bouldin score is: \t\t\t   0.5471175907016865\n"
          ]
        }
      ]
    }
  ]
}